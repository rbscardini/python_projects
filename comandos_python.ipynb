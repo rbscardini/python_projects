{
 "cells": [
  {
   "cell_type": "markdown",
   "metadata": {},
   "source": [
    "# Funções e Métodos\n"
   ]
  },
  {
   "cell_type": "markdown",
   "metadata": {},
   "source": [
    "## String\n",
    "### Mudando para letras maiúsculas e minúsculas em uma string usando métodos\n",
    "Vamos adotar o seguinte exemplo de uma váriavel com o nome **name** contendo **rafael scardini**."
   ]
  },
  {
   "cell_type": "code",
   "execution_count": 2,
   "metadata": {},
   "outputs": [
    {
     "name": "stdout",
     "output_type": "stream",
     "text": [
      "rafael scardini\n"
     ]
    }
   ],
   "source": [
    "name = \"rafael scardini\"\n",
    "print(name)"
   ]
  },
  {
   "cell_type": "markdown",
   "metadata": {},
   "source": [
    "Podemos modificar o conteudo da variável name utilizando alguns argumentos, como:\n",
    "- title() - exibe cada palavra com uma letra maiúscula no início;\n",
    "- upper() - exibe todas as letras da string em maúsculas;\n",
    "- lower() - exibe todas as letras da string em minúsculas.\n",
    "    "
   ]
  },
  {
   "cell_type": "code",
   "execution_count": 5,
   "metadata": {},
   "outputs": [
    {
     "name": "stdout",
     "output_type": "stream",
     "text": [
      "Usando o método title():  Rafael Scardini\n",
      "Usando o método upper():  RAFAEL SCARDINI\n",
      "Usando o método lower():  rafael scardini\n"
     ]
    }
   ],
   "source": [
    "# exibe cada palavra com uma letra maiúscula no início\n",
    "print(\"Usando o método title(): \", name.title())\n",
    "\n",
    "# exibe todas as letras da string em maúsculas\n",
    "print(\"Usando o método upper(): \", name.upper())\n",
    "\n",
    "# exibe todas as letras da string em minúsculas\n",
    "print(\"Usando o método lower(): \", name.lower())"
   ]
  },
  {
   "cell_type": "markdown",
   "metadata": {},
   "source": [
    "### Combinando ou concatenando strings\n",
    "Para combinar ou concatenar strings usamos o operador **+**, como por exemplo:"
   ]
  },
  {
   "cell_type": "code",
   "execution_count": 7,
   "metadata": {},
   "outputs": [
    {
     "name": "stdout",
     "output_type": "stream",
     "text": [
      "rafael scardini\n"
     ]
    }
   ],
   "source": [
    "# string 1\n",
    "first_name = \"rafael\"\n",
    "\n",
    "# string 2\n",
    "last_name = \"scardini\"\n",
    "\n",
    "# string 3 = string 1 + espaço + string 2\n",
    "full_name = first_name + \" \" + last_name\n",
    "\n",
    "print(full_name)"
   ]
  },
  {
   "cell_type": "markdown",
   "metadata": {},
   "source": [
    "### Acrescentando espaços em branco em strings com tabulações ou quebra de linha\n",
    "Em programação, espaços em branco se referem a qualquer caractere que\n",
    "não é mostrado, como espaços, tabulações e símbolos de fim de linha.\n",
    "- Para acrescentar uma tabulação utilize **\\t**.\n",
    "- Para acrescentar uma quebra de linha utilize **\\n**.\n",
    "\n",
    "*obs: podemos combinar tabulação e quebra de linha usando por exemplo **\\n\\t**.*"
   ]
  },
  {
   "cell_type": "code",
   "execution_count": 14,
   "metadata": {},
   "outputs": [
    {
     "name": "stdout",
     "output_type": "stream",
     "text": [
      "Python\n"
     ]
    }
   ],
   "source": [
    "# texto sem alteração\n",
    "print(\"Python\")"
   ]
  },
  {
   "cell_type": "code",
   "execution_count": 13,
   "metadata": {},
   "outputs": [
    {
     "name": "stdout",
     "output_type": "stream",
     "text": [
      "\tPython\n"
     ]
    }
   ],
   "source": [
    "# usando comando \\t para acrescentar uma tabulação em uma string\n",
    "print(\"\\tPython\")"
   ]
  },
  {
   "cell_type": "code",
   "execution_count": 15,
   "metadata": {},
   "outputs": [
    {
     "name": "stdout",
     "output_type": "stream",
     "text": [
      "Languages:\n",
      "Python\n",
      "C\n",
      "Java\n"
     ]
    }
   ],
   "source": [
    "# usando comando \\n para acrescentar uma nova linha em uma string\n",
    "print(\"Languages:\\nPython\\nC\\nJava\")"
   ]
  },
  {
   "cell_type": "code",
   "execution_count": 16,
   "metadata": {},
   "outputs": [
    {
     "name": "stdout",
     "output_type": "stream",
     "text": [
      "Languages:\n",
      "\tPython\n",
      "\tC\n",
      "\tJava\n"
     ]
    }
   ],
   "source": [
    "# combinando os comandos \\t e \\n para acrescentar tabulações e novas linhas em uma string\n",
    "print(\"Languages:\\n\\tPython\\n\\tC\\n\\tJava\")"
   ]
  },
  {
   "cell_type": "markdown",
   "metadata": {},
   "source": [
    "### Removendo espaços em branco\n",
    "Python é capaz de encontrar espaços em branco dos lados direito e esquerdo de uma string.\n",
    "- Para remover temporariamente os espaços em branco do lado direito de uma string, utilize o método rstrip().\n",
    "- Para remover temporariamente os espaços em branco do lado esquerdo de uma string, utilize o método lstrip().\n",
    "- Para remover temporariamente os espaços em branco de ambos os lados de uma string, utilize o método strip()."
   ]
  },
  {
   "cell_type": "code",
   "execution_count": 17,
   "metadata": {},
   "outputs": [
    {
     "name": "stdout",
     "output_type": "stream",
     "text": [
      "_ rafael _\n"
     ]
    }
   ],
   "source": [
    "# variavel com espaço de ambos os lados\n",
    "name = \" rafael \"\n",
    "print(\"_\" + name + \"_\")"
   ]
  },
  {
   "cell_type": "code",
   "execution_count": 18,
   "metadata": {},
   "outputs": [
    {
     "name": "stdout",
     "output_type": "stream",
     "text": [
      "_ rafael_\n"
     ]
    }
   ],
   "source": [
    "# removendo temporariamente os espaços em branco do lado direito\n",
    "print(\"_\" + name.rstrip() + \"_\")"
   ]
  },
  {
   "cell_type": "code",
   "execution_count": 19,
   "metadata": {},
   "outputs": [
    {
     "name": "stdout",
     "output_type": "stream",
     "text": [
      "_rafael _\n"
     ]
    }
   ],
   "source": [
    "# removendo temporariamente os espaços em branco do lado esquerdo\n",
    "print(\"_\" + name.lstrip() + \"_\")"
   ]
  },
  {
   "cell_type": "code",
   "execution_count": 20,
   "metadata": {},
   "outputs": [
    {
     "name": "stdout",
     "output_type": "stream",
     "text": [
      "_rafael_\n"
     ]
    }
   ],
   "source": [
    "# removendo temporariamente os espaços em branco de ambos os lados\n",
    "print(\"_\" + name.strip() + \"_\")"
   ]
  },
  {
   "cell_type": "markdown",
   "metadata": {},
   "source": [
    "Para remover os espaços em branco de modo permanente, precisamos armazenar o valor com o caractere removido de volta na variável, como por exemplo:"
   ]
  },
  {
   "cell_type": "code",
   "execution_count": 24,
   "metadata": {},
   "outputs": [
    {
     "name": "stdout",
     "output_type": "stream",
     "text": [
      "Antes de remover os espaços em branco:\n",
      "_rafael_\n",
      "\n",
      "\n",
      "Depois de remover os espaços em branco:\n",
      "_rafael_\n"
     ]
    }
   ],
   "source": [
    "# sem remover os espaços em branco\n",
    "print(\"Antes de remover os espaços em branco:\")\n",
    "print(\"_\" + name + \"_\")\n",
    "print(\"\\n\")\n",
    "# removendo os espaços em brancos permanentes\n",
    "name = name.strip()\n",
    "print(\"Depois de remover os espaços em branco:\")\n",
    "print(\"_\" + name + \"_\")\n"
   ]
  },
  {
   "cell_type": "markdown",
   "metadata": {},
   "source": [
    "## Números\n"
   ]
  },
  {
   "cell_type": "code",
   "execution_count": null,
   "metadata": {},
   "outputs": [],
   "source": []
  }
 ],
 "metadata": {
  "kernelspec": {
   "display_name": "Python 3",
   "language": "python",
   "name": "python3"
  },
  "language_info": {
   "codemirror_mode": {
    "name": "ipython",
    "version": 3
   },
   "file_extension": ".py",
   "mimetype": "text/x-python",
   "name": "python",
   "nbconvert_exporter": "python",
   "pygments_lexer": "ipython3",
   "version": "3.6.4"
  }
 },
 "nbformat": 4,
 "nbformat_minor": 2
}
