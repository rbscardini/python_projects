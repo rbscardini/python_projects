{
 "cells": [
  {
   "cell_type": "markdown",
   "metadata": {},
   "source": [
    "# Básico de Pyhton 3\n"
   ]
  },
  {
   "cell_type": "markdown",
   "metadata": {},
   "source": [
    "## String\n",
    "Para exibir valores na leta usando Python 3, vamos usar a função **print()**, em que o argumento é o valor a ser exibido na tela. No exemplo a baixo vamos imprimir uma string, **\"Hello World!\"**."
   ]
  },
  {
   "cell_type": "code",
   "execution_count": 1,
   "metadata": {},
   "outputs": [
    {
     "name": "stdout",
     "output_type": "stream",
     "text": [
      "Hello World!\n"
     ]
    }
   ],
   "source": [
    "print(\"Hello World!\")"
   ]
  },
  {
   "cell_type": "markdown",
   "metadata": {},
   "source": [
    "### Mudando para letras maiúsculas e minúsculas em uma string usando métodos\n",
    "Vamos adotar o seguinte exemplo de uma váriavel com o nome **name** contendo **rafael scardini**."
   ]
  },
  {
   "cell_type": "code",
   "execution_count": 2,
   "metadata": {},
   "outputs": [
    {
     "name": "stdout",
     "output_type": "stream",
     "text": [
      "rafael scardini\n"
     ]
    }
   ],
   "source": [
    "name = \"rafael scardini\"\n",
    "print(name)"
   ]
  },
  {
   "cell_type": "markdown",
   "metadata": {},
   "source": [
    "Podemos modificar o conteudo da variável name utilizando alguns argumentos, como:\n",
    "- title() - exibe cada palavra com uma letra maiúscula no início;\n",
    "- upper() - exibe todas as letras da string em maúsculas;\n",
    "- lower() - exibe todas as letras da string em minúsculas.\n",
    "    "
   ]
  },
  {
   "cell_type": "code",
   "execution_count": 5,
   "metadata": {},
   "outputs": [
    {
     "name": "stdout",
     "output_type": "stream",
     "text": [
      "Usando o método title():  Rafael Scardini\n",
      "Usando o método upper():  RAFAEL SCARDINI\n",
      "Usando o método lower():  rafael scardini\n"
     ]
    }
   ],
   "source": [
    "# exibe cada palavra com uma letra maiúscula no início\n",
    "print(\"Usando o método title(): \", name.title())\n",
    "\n",
    "# exibe todas as letras da string em maúsculas\n",
    "print(\"Usando o método upper(): \", name.upper())\n",
    "\n",
    "# exibe todas as letras da string em minúsculas\n",
    "print(\"Usando o método lower(): \", name.lower())"
   ]
  },
  {
   "cell_type": "markdown",
   "metadata": {},
   "source": [
    "### Combinando ou concatenando strings\n",
    "Para combinar ou concatenar strings usamos o operador **+**, como por exemplo:"
   ]
  },
  {
   "cell_type": "code",
   "execution_count": 7,
   "metadata": {},
   "outputs": [
    {
     "name": "stdout",
     "output_type": "stream",
     "text": [
      "rafael scardini\n"
     ]
    }
   ],
   "source": [
    "# string 1\n",
    "first_name = \"rafael\"\n",
    "\n",
    "# string 2\n",
    "last_name = \"scardini\"\n",
    "\n",
    "# string 3 = string 1 + espaço + string 2\n",
    "full_name = first_name + \" \" + last_name\n",
    "\n",
    "print(full_name)"
   ]
  },
  {
   "cell_type": "markdown",
   "metadata": {},
   "source": [
    "### Acrescentando espaços em branco em strings com tabulações ou quebra de linha\n",
    "Em programação, espaços em branco se referem a qualquer caractere que\n",
    "não é mostrado, como espaços, tabulações e símbolos de fim de linha.\n",
    "- Para acrescentar uma tabulação utilize **\\t**.\n",
    "- Para acrescentar uma quebra de linha utilize **\\n**.\n",
    "\n",
    "*obs: podemos combinar tabulação e quebra de linha usando por exemplo **\\n\\t**.*"
   ]
  },
  {
   "cell_type": "code",
   "execution_count": 14,
   "metadata": {},
   "outputs": [
    {
     "name": "stdout",
     "output_type": "stream",
     "text": [
      "Python\n"
     ]
    }
   ],
   "source": [
    "# texto sem alteração\n",
    "print(\"Python\")"
   ]
  },
  {
   "cell_type": "code",
   "execution_count": 13,
   "metadata": {},
   "outputs": [
    {
     "name": "stdout",
     "output_type": "stream",
     "text": [
      "\tPython\n"
     ]
    }
   ],
   "source": [
    "# usando comando \\t para acrescentar uma tabulação em uma string\n",
    "print(\"\\tPython\")"
   ]
  },
  {
   "cell_type": "code",
   "execution_count": 15,
   "metadata": {},
   "outputs": [
    {
     "name": "stdout",
     "output_type": "stream",
     "text": [
      "Languages:\n",
      "Python\n",
      "C\n",
      "Java\n"
     ]
    }
   ],
   "source": [
    "# usando comando \\n para acrescentar uma nova linha em uma string\n",
    "print(\"Languages:\\nPython\\nC\\nJava\")"
   ]
  },
  {
   "cell_type": "code",
   "execution_count": 16,
   "metadata": {},
   "outputs": [
    {
     "name": "stdout",
     "output_type": "stream",
     "text": [
      "Languages:\n",
      "\tPython\n",
      "\tC\n",
      "\tJava\n"
     ]
    }
   ],
   "source": [
    "# combinando os comandos \\t e \\n para acrescentar tabulações e novas linhas em uma string\n",
    "print(\"Languages:\\n\\tPython\\n\\tC\\n\\tJava\")"
   ]
  },
  {
   "cell_type": "markdown",
   "metadata": {},
   "source": [
    "### Removendo espaços em branco\n",
    "Python é capaz de encontrar espaços em branco dos lados direito e esquerdo de uma string.\n",
    "- Para remover temporariamente os espaços em branco do lado direito de uma string, utilize o método rstrip().\n",
    "- Para remover temporariamente os espaços em branco do lado esquerdo de uma string, utilize o método lstrip().\n",
    "- Para remover temporariamente os espaços em branco de ambos os lados de uma string, utilize o método strip()."
   ]
  },
  {
   "cell_type": "code",
   "execution_count": 17,
   "metadata": {},
   "outputs": [
    {
     "name": "stdout",
     "output_type": "stream",
     "text": [
      "_ rafael _\n"
     ]
    }
   ],
   "source": [
    "# variavel com espaço de ambos os lados\n",
    "name = \" rafael \"\n",
    "print(\"_\" + name + \"_\")"
   ]
  },
  {
   "cell_type": "code",
   "execution_count": 18,
   "metadata": {},
   "outputs": [
    {
     "name": "stdout",
     "output_type": "stream",
     "text": [
      "_ rafael_\n"
     ]
    }
   ],
   "source": [
    "# removendo temporariamente os espaços em branco do lado direito\n",
    "print(\"_\" + name.rstrip() + \"_\")"
   ]
  },
  {
   "cell_type": "code",
   "execution_count": 19,
   "metadata": {},
   "outputs": [
    {
     "name": "stdout",
     "output_type": "stream",
     "text": [
      "_rafael _\n"
     ]
    }
   ],
   "source": [
    "# removendo temporariamente os espaços em branco do lado esquerdo\n",
    "print(\"_\" + name.lstrip() + \"_\")"
   ]
  },
  {
   "cell_type": "code",
   "execution_count": 20,
   "metadata": {},
   "outputs": [
    {
     "name": "stdout",
     "output_type": "stream",
     "text": [
      "_rafael_\n"
     ]
    }
   ],
   "source": [
    "# removendo temporariamente os espaços em branco de ambos os lados\n",
    "print(\"_\" + name.strip() + \"_\")"
   ]
  },
  {
   "cell_type": "markdown",
   "metadata": {},
   "source": [
    "Para remover os espaços em branco de modo permanente, precisamos armazenar o valor com o caractere removido de volta na variável, como por exemplo:"
   ]
  },
  {
   "cell_type": "code",
   "execution_count": 24,
   "metadata": {},
   "outputs": [
    {
     "name": "stdout",
     "output_type": "stream",
     "text": [
      "Antes de remover os espaços em branco:\n",
      "_rafael_\n",
      "\n",
      "\n",
      "Depois de remover os espaços em branco:\n",
      "_rafael_\n"
     ]
    }
   ],
   "source": [
    "# sem remover os espaços em branco\n",
    "print(\"Antes de remover os espaços em branco:\")\n",
    "print(\"_\" + name + \"_\")\n",
    "print(\"\\n\")\n",
    "# removendo os espaços em brancos permanentes\n",
    "name = name.strip()\n",
    "print(\"Depois de remover os espaços em branco:\")\n",
    "print(\"_\" + name + \"_\")\n"
   ]
  },
  {
   "cell_type": "markdown",
   "metadata": {},
   "source": [
    "## Números\n",
    "Básicamente vamos representar os números **inteiros** e **pontos flutuantes (float)** como por exemplo **1** e **1.0**, respectivamente."
   ]
  },
  {
   "cell_type": "code",
   "execution_count": 12,
   "metadata": {},
   "outputs": [
    {
     "name": "stdout",
     "output_type": "stream",
     "text": [
      "numero inteiro:  1\n",
      "ponto flutuante:  1.0\n"
     ]
    }
   ],
   "source": [
    "# exemplo de representação de um número inteiro em Python\n",
    "inteiro = 1\n",
    "print(\"numero inteiro: \", inteiro)\n",
    "\n",
    "# exemplo de representação de um ponto flutuante (float)\n",
    "ponto_flutuante = 1.0\n",
    "print(\"ponto flutuante: \", ponto_flutuante)"
   ]
  },
  {
   "cell_type": "markdown",
   "metadata": {},
   "source": [
    "### Operações matemáticas básicas\n",
    "Ao trabalhar com números em Python, as operações básicas são:\n",
    "- soma ( + )\n",
    "- subtração ( - )\n",
    "- multiplicação ( * )\n",
    "- divisão ( / )\n",
    "- potenciação ( ** )\n",
    "- resto de uma divisão ( // )"
   ]
  },
  {
   "cell_type": "code",
   "execution_count": 11,
   "metadata": {},
   "outputs": [
    {
     "name": "stdout",
     "output_type": "stream",
     "text": [
      "soma:  3\n",
      "subtracao:  1\n",
      "multiplicacao:  6\n",
      "divisao:  1.3333333333333333\n",
      "potenciacao:  8\n",
      "resto:  1\n"
     ]
    }
   ],
   "source": [
    "# somando dois números\n",
    "soma = 1 + 2\n",
    "print(\"soma: \", soma)\n",
    "\n",
    "# subtraindo dois números\n",
    "subtracao = 2 - 1\n",
    "print(\"subtracao: \", subtracao)\n",
    "\n",
    "# multiplicando dois números\n",
    "multiplicacao = 2 * 3\n",
    "print(\"multiplicacao: \", multiplicacao)\n",
    "\n",
    "# dividindo dois números\n",
    "divisao = 4 / 3\n",
    "print(\"divisao: \", divisao)\n",
    "\n",
    "# elevar a potência\n",
    "potenciacao = 2 ** 3\n",
    "print(\"potenciacao: \", potenciacao)\n",
    "\n",
    "# resto de uma divisão entre dois números\n",
    "resto = 4 // 3\n",
    "print(\"resto: \", resto)"
   ]
  },
  {
   "cell_type": "markdown",
   "metadata": {},
   "source": [
    "### Converter um número em uma string\n",
    "Para usar um número em meio a uma string precisamos converte-lo em uma string, e para realizar essa operação vamos usar a função **str()**"
   ]
  },
  {
   "cell_type": "code",
   "execution_count": 15,
   "metadata": {},
   "outputs": [
    {
     "name": "stdout",
     "output_type": "stream",
     "text": [
      "Eu tenho 29 anos.\n"
     ]
    }
   ],
   "source": [
    "# convertendo um numero em uma string para concatena-lo em uma string\n",
    "idade = 29\n",
    "mensagem = \"Eu tenho \" + str(idade) + \" anos.\"\n",
    "print(mensagem)"
   ]
  },
  {
   "cell_type": "markdown",
   "metadata": {},
   "source": [
    "## Listas\n",
    "Uma lista é uma coleção de itens em uma ordem em particular. Você pode colocar qualquer informação que quiser em uma lista, e os itens de sua lista não precisam estar relacionados de nenhum modo em particular.\n",
    "\n",
    "Em Python, colchetes indicam uma lista, e elementos individuais da lista são separados por vírgulas."
   ]
  },
  {
   "cell_type": "code",
   "execution_count": 17,
   "metadata": {},
   "outputs": [
    {
     "name": "stdout",
     "output_type": "stream",
     "text": [
      "lista vazia:  []\n",
      "nomes:  ['luna', 'mirana', 'clock', 'axe']\n"
     ]
    }
   ],
   "source": [
    "# declarando uma lista vazia\n",
    "lista = []\n",
    "print(\"lista vazia: \", lista)\n",
    "\n",
    "# declarando uma lista com valores\n",
    "nomes = [\"luna\", \"mirana\", \"clock\", \"axe\"]\n",
    "print(\"nomes: \", nomes)"
   ]
  },
  {
   "cell_type": "markdown",
   "metadata": {},
   "source": [
    "Para encontrar o tamanho da lista podemos usar a função **len( )**."
   ]
  },
  {
   "cell_type": "code",
   "execution_count": 36,
   "metadata": {},
   "outputs": [
    {
     "name": "stdout",
     "output_type": "stream",
     "text": [
      "Tamanho da lista:  4\n"
     ]
    }
   ],
   "source": [
    "# usando a função len() para descobrir o tamnho da lista\n",
    "tamanho_lista = len(nomes)\n",
    "print(\"Tamanho da lista: \", tamanho_lista)"
   ]
  },
  {
   "cell_type": "markdown",
   "metadata": {},
   "source": [
    "### Acessando elementos de uma lista\n",
    "Para acessar um elemento de uma lista, escreva o nome da lista seguido do índice do item entre **colchetes**, lembrando que em Python o primeiro item de uma lista está na posição **0**. Para acessar a última posição de uma lista podemos usar o índice **-1**."
   ]
  },
  {
   "cell_type": "code",
   "execution_count": 19,
   "metadata": {},
   "outputs": [
    {
     "name": "stdout",
     "output_type": "stream",
     "text": [
      "Primeiro nome da lista:  luna\n",
      "Segundo nome da lista:  mirana\n",
      "Último nome da lista:  axe\n"
     ]
    }
   ],
   "source": [
    "# acessando o primeiro elemento da lista nomes\n",
    "print(\"Primeiro nome da lista: \", nomes[0])\n",
    "\n",
    "# acessando o segundo elemento da lista nomes\n",
    "print(\"Segundo nome da lista: \", nomes[1])\n",
    "\n",
    "# acessando o último elemento da lista nomes\n",
    "print(\"Último nome da lista: \", nomes[-1])"
   ]
  },
  {
   "cell_type": "markdown",
   "metadata": {},
   "source": [
    "*obs: para acessar os últimos itens de uma lista, vamos usar a númeração como fizemos para obter o último elemento da lista, índice **-1**. Por exemplo para acessar o segundo e o terceiro elemento de uma lista a partir do final vamos usar os indices **-2** e **-3**, respectivamente.* "
   ]
  },
  {
   "cell_type": "code",
   "execution_count": 21,
   "metadata": {},
   "outputs": [
    {
     "name": "stdout",
     "output_type": "stream",
     "text": [
      "Penúltimo elemento da lista:  clock\n",
      "Antepenúltimo elemento da lista:  mirana\n"
     ]
    }
   ],
   "source": [
    "# acessando o segundo elemento de uma lista a partir do final\n",
    "print(\"Penúltimo elemento da lista: \", nomes[-2])\n",
    "\n",
    "# acessando o terceiro elemento de uma lista a partir do final\n",
    "print(\"Antepenúltimo elemento da lista: \", nomes[-3])"
   ]
  },
  {
   "cell_type": "markdown",
   "metadata": {},
   "source": [
    "### Modificando elementos de uma lista\n",
    "Os elementos de uma lista podem ser modificados, e realizamos essa tarefa da seguinte maneira:"
   ]
  },
  {
   "cell_type": "code",
   "execution_count": 23,
   "metadata": {},
   "outputs": [
    {
     "name": "stdout",
     "output_type": "stream",
     "text": [
      "lista original:  ['luna', 'mirana', 'clock', 'axe']\n",
      "lista modificada:  ['medusa', 'mirana', 'clock', 'axe']\n"
     ]
    }
   ],
   "source": [
    "# modificando elementos de uma lista\n",
    "print(\"lista original: \", nomes)\n",
    "nomes[0] = \"medusa\"\n",
    "print(\"lista modificada: \", nomes)"
   ]
  },
  {
   "cell_type": "markdown",
   "metadata": {},
   "source": [
    "### Métodos e funções para adicionar e remover elementos em uma lista\n",
    "- Método **append( )**: acrescenta um novo elemento no final da lista\n",
    "\n",
    "- Método **insert( )**: acrescenta um novo elemento em uma posição escolhida\n",
    "\n",
    "- Instrução **del**: deleta um item ou elemento de uma lista. O elemento não pode mais ser acessado.\n",
    "\n",
    "- Método **pop( )**: remove um elemento em uma determinada posição de uma lista.  Esse método retorna o elemento removido.\n",
    "\n",
    "- Método **remove( )**: remove um elemento de uma lista basedado no valor do item. Esse método apaga somente a primeira ocorrência desse valor."
   ]
  },
  {
   "cell_type": "code",
   "execution_count": 35,
   "metadata": {},
   "outputs": [
    {
     "name": "stdout",
     "output_type": "stream",
     "text": [
      "Lista:  ['lg', 'ibm', 'lenovo', 'dell']\n",
      "Lista:  ['lg', 'ibm', 'lenovo', 'dell', 'hp']\n",
      "Lista:  ['lg', 'ibm', 'asus', 'lenovo', 'dell', 'hp']\n",
      "Lista:  ['lg', 'asus', 'lenovo', 'dell', 'hp']\n",
      "Lista:  ['lg', 'asus', 'lenovo', 'hp']\n",
      "Item removido:  dell\n",
      "Lista:  ['lg', 'asus', 'hp']\n"
     ]
    }
   ],
   "source": [
    "# criando uma nova lista que contém nomes das empresas da área de TI\n",
    "empresas = [\"lg\", \"ibm\", \"lenovo\", \"dell\"]\n",
    "print(\"Lista: \", empresas)\n",
    "\n",
    "# acrescentando um item no final de uma lista usando o método append()\n",
    "empresas.append(\"hp\")\n",
    "print(\"Lista: \", empresas)\n",
    "\n",
    "# acrescentando um novo elemento na posição 2 da lista usando o método insert()\n",
    "empresas.insert(2, \"asus\")\n",
    "print(\"Lista: \", empresas)\n",
    "\n",
    "# removendo o elemento na posição 1 da lista usando a instrução del\n",
    "del empresas[1]\n",
    "print(\"Lista: \", empresas)\n",
    "\n",
    "# removendo o elemento na posição 3 da lista usando o método pop()\n",
    "elemento_removido = empresas.pop(3)\n",
    "print(\"Lista: \", empresas)\n",
    "print(\"Item removido: \", elemento_removido)\n",
    "\n",
    "#removendo o elemento especifico com valor \"lenovo\" usando o método remove()\n",
    "empresas.remove(\"lenovo\")\n",
    "print(\"Lista: \", empresas)"
   ]
  },
  {
   "cell_type": "markdown",
   "metadata": {},
   "source": [
    "### Métodos e funções para ordenar uma lista\n",
    "- Método **sort( )**: usado para ordenar a lista permamentemente em ordem crescente ou decrescente. O método ordena e lista em ordem crescente por padrão. Para ordenar a lista em ordem decrescente basta trocar o argurmento do método para **reverse=True**.\n",
    "\n",
    "- Função **sorted( )**: usado para ordenar a lista temporariamente em ordem crescente ou decrescente. O método ordena e lista em ordem crescente por padrão. Para ordenar a lista em ordem decrescente basta trocar o argurmento do método para **reverse=True**.\n",
    "\n",
    "- Método **reverse( )**: usado para inverter a lista permanentemente. Podemos restaurar a ordem original a qualquer momento aplicando **reverse( )** à mesma lista uma segunda vez.\n"
   ]
  },
  {
   "cell_type": "code",
   "execution_count": 49,
   "metadata": {},
   "outputs": [
    {
     "name": "stdout",
     "output_type": "stream",
     "text": [
      "Lista original:                ['ibm', 'lg', 'apple', 'dell', 'asus', 'hp']\n",
      "Lista ordenada (crescente):    ['apple', 'asus', 'dell', 'hp', 'ibm', 'lg']\n",
      "Lista atual:                   ['apple', 'asus', 'dell', 'hp', 'ibm', 'lg']\n",
      "Lista ordenada (decrescente):  ['lg', 'ibm', 'hp', 'dell', 'asus', 'apple']\n",
      "Lista atual:                   ['lg', 'ibm', 'hp', 'dell', 'asus', 'apple']\n"
     ]
    }
   ],
   "source": [
    "# criando uma nova lista que contém nomes das empresas da área de TI\n",
    "empresas = [\"ibm\", \"lg\", \"apple\", \"dell\", \"asus\", \"hp\"]\n",
    "print(\"Lista original:               \", empresas)\n",
    "\n",
    "# ordenando uma lista permamentemente de forma crescente\n",
    "empresas.sort()\n",
    "print(\"Lista ordenada (crescente):   \", empresas)\n",
    "print(\"Lista atual:                  \", empresas)\n",
    "\n",
    "# ordenando uma lista permamentemente de forma decrescente\n",
    "empresas.sort(reverse=True)\n",
    "print(\"Lista ordenada (decrescente): \", empresas)\n",
    "print(\"Lista atual:                  \", empresas)"
   ]
  },
  {
   "cell_type": "code",
   "execution_count": 50,
   "metadata": {},
   "outputs": [
    {
     "name": "stdout",
     "output_type": "stream",
     "text": [
      "Lista original:                ['ibm', 'lg', 'apple', 'dell', 'asus', 'hp']\n",
      "Lista ordenada (crescente):    ['apple', 'asus', 'dell', 'hp', 'ibm', 'lg']\n",
      "Lista atual:                   ['ibm', 'lg', 'apple', 'dell', 'asus', 'hp']\n",
      "Lista ordenada (decrescente):  ['lg', 'ibm', 'hp', 'dell', 'asus', 'apple']\n",
      "Lista atual:                   ['ibm', 'lg', 'apple', 'dell', 'asus', 'hp']\n"
     ]
    }
   ],
   "source": [
    "# criando uma nova lista que contém nomes das empresas da área de TI\n",
    "empresas = [\"ibm\", \"lg\", \"apple\", \"dell\", \"asus\", \"hp\"]\n",
    "print(\"Lista original:               \", empresas)\n",
    "\n",
    "# ordenando uma lista temporariamente de forma crescente\n",
    "print(\"Lista ordenada (crescente):   \", sorted(empresas))\n",
    "print(\"Lista atual:                  \", empresas)\n",
    "\n",
    "# ordenando uma lista temporariamente de forma decrescente\n",
    "print(\"Lista ordenada (decrescente): \", sorted(empresas,reverse=True))\n",
    "print(\"Lista atual:                  \", empresas)"
   ]
  },
  {
   "cell_type": "code",
   "execution_count": 52,
   "metadata": {},
   "outputs": [
    {
     "name": "stdout",
     "output_type": "stream",
     "text": [
      "Lista original:   ['ibm', 'lg', 'apple', 'dell', 'asus', 'hp']\n",
      "Lista invertida:  ['hp', 'asus', 'dell', 'apple', 'lg', 'ibm']\n",
      "Lista atual:      ['hp', 'asus', 'dell', 'apple', 'lg', 'ibm']\n"
     ]
    }
   ],
   "source": [
    "# criando uma nova lista que contém nomes das empresas da área de TI\n",
    "empresas = [\"ibm\", \"lg\", \"apple\", \"dell\", \"asus\", \"hp\"]\n",
    "print(\"Lista original:  \", empresas)\n",
    "\n",
    "# invertendo uma lista de forma permanente\n",
    "empresas.reverse()\n",
    "print(\"Lista invertida: \", empresas)\n",
    "print(\"Lista atual:     \", empresas)"
   ]
  },
  {
   "cell_type": "markdown",
   "metadata": {},
   "source": [
    "### Percorrendo uma lista com um laço"
   ]
  },
  {
   "cell_type": "code",
   "execution_count": 53,
   "metadata": {},
   "outputs": [
    {
     "name": "stdout",
     "output_type": "stream",
     "text": [
      "lina\n",
      "axe\n",
      "sladar\n",
      "medusa\n"
     ]
    }
   ],
   "source": [
    "nomes = [\"lina\", \"axe\", \"sladar\", \"medusa\"]\n",
    "for nome in nomes:\n",
    "    print(nome)"
   ]
  },
  {
   "cell_type": "markdown",
   "metadata": {},
   "source": [
    "### Criando listas numéricas"
   ]
  },
  {
   "cell_type": "code",
   "execution_count": null,
   "metadata": {},
   "outputs": [],
   "source": []
  }
 ],
 "metadata": {
  "kernelspec": {
   "display_name": "Python 3",
   "language": "python",
   "name": "python3"
  },
  "language_info": {
   "codemirror_mode": {
    "name": "ipython",
    "version": 3
   },
   "file_extension": ".py",
   "mimetype": "text/x-python",
   "name": "python",
   "nbconvert_exporter": "python",
   "pygments_lexer": "ipython3",
   "version": "3.6.4"
  }
 },
 "nbformat": 4,
 "nbformat_minor": 2
}
